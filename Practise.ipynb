{
 "cells": [
  {
   "cell_type": "code",
   "execution_count": 1,
   "id": "2b917f15",
   "metadata": {},
   "outputs": [],
   "source": [
    "import numpy as np\n",
    "import pandas as pd"
   ]
  },
  {
   "cell_type": "code",
   "execution_count": 40,
   "id": "db02b671",
   "metadata": {},
   "outputs": [],
   "source": [
    "df = pd.DataFrame(np.random.rand(5,1))"
   ]
  },
  {
   "cell_type": "code",
   "execution_count": 8,
   "id": "02587d1a",
   "metadata": {},
   "outputs": [
    {
     "data": {
      "text/html": [
       "<div>\n",
       "<style scoped>\n",
       "    .dataframe tbody tr th:only-of-type {\n",
       "        vertical-align: middle;\n",
       "    }\n",
       "\n",
       "    .dataframe tbody tr th {\n",
       "        vertical-align: top;\n",
       "    }\n",
       "\n",
       "    .dataframe thead th {\n",
       "        text-align: right;\n",
       "    }\n",
       "</style>\n",
       "<table border=\"1\" class=\"dataframe\">\n",
       "  <thead>\n",
       "    <tr style=\"text-align: right;\">\n",
       "      <th></th>\n",
       "      <th>0</th>\n",
       "      <th>1</th>\n",
       "      <th>2</th>\n",
       "      <th>3</th>\n",
       "      <th>4</th>\n",
       "      <th>5</th>\n",
       "      <th>6</th>\n",
       "      <th>7</th>\n",
       "      <th>8</th>\n",
       "      <th>9</th>\n",
       "    </tr>\n",
       "  </thead>\n",
       "  <tbody>\n",
       "    <tr>\n",
       "      <th>0</th>\n",
       "      <td>0.408960</td>\n",
       "      <td>0.070678</td>\n",
       "      <td>0.373957</td>\n",
       "      <td>0.184759</td>\n",
       "      <td>0.387744</td>\n",
       "      <td>0.297897</td>\n",
       "      <td>0.419459</td>\n",
       "      <td>0.575106</td>\n",
       "      <td>0.739666</td>\n",
       "      <td>0.549785</td>\n",
       "    </tr>\n",
       "    <tr>\n",
       "      <th>1</th>\n",
       "      <td>0.727940</td>\n",
       "      <td>0.296188</td>\n",
       "      <td>0.474564</td>\n",
       "      <td>0.686255</td>\n",
       "      <td>0.417673</td>\n",
       "      <td>0.813233</td>\n",
       "      <td>0.470842</td>\n",
       "      <td>0.465917</td>\n",
       "      <td>0.633147</td>\n",
       "      <td>0.564085</td>\n",
       "    </tr>\n",
       "    <tr>\n",
       "      <th>2</th>\n",
       "      <td>0.415176</td>\n",
       "      <td>0.157863</td>\n",
       "      <td>0.505621</td>\n",
       "      <td>0.221435</td>\n",
       "      <td>0.855086</td>\n",
       "      <td>0.025044</td>\n",
       "      <td>0.969605</td>\n",
       "      <td>0.054979</td>\n",
       "      <td>0.176395</td>\n",
       "      <td>0.346994</td>\n",
       "    </tr>\n",
       "    <tr>\n",
       "      <th>3</th>\n",
       "      <td>0.090440</td>\n",
       "      <td>0.115193</td>\n",
       "      <td>0.011438</td>\n",
       "      <td>0.590517</td>\n",
       "      <td>0.311081</td>\n",
       "      <td>0.065849</td>\n",
       "      <td>0.782758</td>\n",
       "      <td>0.952024</td>\n",
       "      <td>0.174356</td>\n",
       "      <td>0.811625</td>\n",
       "    </tr>\n",
       "    <tr>\n",
       "      <th>4</th>\n",
       "      <td>0.349774</td>\n",
       "      <td>0.583724</td>\n",
       "      <td>0.885829</td>\n",
       "      <td>0.780260</td>\n",
       "      <td>0.608362</td>\n",
       "      <td>0.182307</td>\n",
       "      <td>0.801069</td>\n",
       "      <td>0.613466</td>\n",
       "      <td>0.991041</td>\n",
       "      <td>0.803071</td>\n",
       "    </tr>\n",
       "  </tbody>\n",
       "</table>\n",
       "</div>"
      ],
      "text/plain": [
       "          0         1         2         3         4         5         6  \\\n",
       "0  0.408960  0.070678  0.373957  0.184759  0.387744  0.297897  0.419459   \n",
       "1  0.727940  0.296188  0.474564  0.686255  0.417673  0.813233  0.470842   \n",
       "2  0.415176  0.157863  0.505621  0.221435  0.855086  0.025044  0.969605   \n",
       "3  0.090440  0.115193  0.011438  0.590517  0.311081  0.065849  0.782758   \n",
       "4  0.349774  0.583724  0.885829  0.780260  0.608362  0.182307  0.801069   \n",
       "\n",
       "          7         8         9  \n",
       "0  0.575106  0.739666  0.549785  \n",
       "1  0.465917  0.633147  0.564085  \n",
       "2  0.054979  0.176395  0.346994  \n",
       "3  0.952024  0.174356  0.811625  \n",
       "4  0.613466  0.991041  0.803071  "
      ]
     },
     "execution_count": 8,
     "metadata": {},
     "output_type": "execute_result"
    }
   ],
   "source": [
    "df"
   ]
  },
  {
   "cell_type": "code",
   "execution_count": 24,
   "id": "776802fa",
   "metadata": {},
   "outputs": [
    {
     "data": {
      "text/html": [
       "<div>\n",
       "<style scoped>\n",
       "    .dataframe tbody tr th:only-of-type {\n",
       "        vertical-align: middle;\n",
       "    }\n",
       "\n",
       "    .dataframe tbody tr th {\n",
       "        vertical-align: top;\n",
       "    }\n",
       "\n",
       "    .dataframe thead th {\n",
       "        text-align: right;\n",
       "    }\n",
       "</style>\n",
       "<table border=\"1\" class=\"dataframe\">\n",
       "  <thead>\n",
       "    <tr style=\"text-align: right;\">\n",
       "      <th></th>\n",
       "      <th>0</th>\n",
       "      <th>1</th>\n",
       "      <th>2</th>\n",
       "      <th>3</th>\n",
       "      <th>4</th>\n",
       "      <th>5</th>\n",
       "      <th>6</th>\n",
       "      <th>7</th>\n",
       "      <th>8</th>\n",
       "      <th>9</th>\n",
       "    </tr>\n",
       "  </thead>\n",
       "  <tbody>\n",
       "    <tr>\n",
       "      <th>0</th>\n",
       "      <td>0.408960</td>\n",
       "      <td>0.070678</td>\n",
       "      <td>0.373957</td>\n",
       "      <td>0.184759</td>\n",
       "      <td>0.387744</td>\n",
       "      <td>0.297897</td>\n",
       "      <td>0.419459</td>\n",
       "      <td>0.575106</td>\n",
       "      <td>0.739666</td>\n",
       "      <td>0.549785</td>\n",
       "    </tr>\n",
       "    <tr>\n",
       "      <th>1</th>\n",
       "      <td>0.727940</td>\n",
       "      <td>0.296188</td>\n",
       "      <td>0.474564</td>\n",
       "      <td>0.686255</td>\n",
       "      <td>0.417673</td>\n",
       "      <td>0.813233</td>\n",
       "      <td>0.470842</td>\n",
       "      <td>0.465917</td>\n",
       "      <td>0.633147</td>\n",
       "      <td>0.564085</td>\n",
       "    </tr>\n",
       "    <tr>\n",
       "      <th>2</th>\n",
       "      <td>0.415176</td>\n",
       "      <td>0.157863</td>\n",
       "      <td>0.505621</td>\n",
       "      <td>0.221435</td>\n",
       "      <td>0.855086</td>\n",
       "      <td>0.025044</td>\n",
       "      <td>0.969605</td>\n",
       "      <td>0.054979</td>\n",
       "      <td>0.176395</td>\n",
       "      <td>0.346994</td>\n",
       "    </tr>\n",
       "    <tr>\n",
       "      <th>3</th>\n",
       "      <td>0.090440</td>\n",
       "      <td>0.115193</td>\n",
       "      <td>0.011438</td>\n",
       "      <td>0.590517</td>\n",
       "      <td>0.311081</td>\n",
       "      <td>0.065849</td>\n",
       "      <td>0.782758</td>\n",
       "      <td>0.952024</td>\n",
       "      <td>0.174356</td>\n",
       "      <td>0.811625</td>\n",
       "    </tr>\n",
       "    <tr>\n",
       "      <th>4</th>\n",
       "      <td>0.349774</td>\n",
       "      <td>0.583724</td>\n",
       "      <td>0.885829</td>\n",
       "      <td>0.780260</td>\n",
       "      <td>0.608362</td>\n",
       "      <td>0.182307</td>\n",
       "      <td>0.801069</td>\n",
       "      <td>0.613466</td>\n",
       "      <td>0.991041</td>\n",
       "      <td>0.803071</td>\n",
       "    </tr>\n",
       "  </tbody>\n",
       "</table>\n",
       "</div>"
      ],
      "text/plain": [
       "          0         1         2         3         4         5         6  \\\n",
       "0  0.408960  0.070678  0.373957  0.184759  0.387744  0.297897  0.419459   \n",
       "1  0.727940  0.296188  0.474564  0.686255  0.417673  0.813233  0.470842   \n",
       "2  0.415176  0.157863  0.505621  0.221435  0.855086  0.025044  0.969605   \n",
       "3  0.090440  0.115193  0.011438  0.590517  0.311081  0.065849  0.782758   \n",
       "4  0.349774  0.583724  0.885829  0.780260  0.608362  0.182307  0.801069   \n",
       "\n",
       "          7         8         9  \n",
       "0  0.575106  0.739666  0.549785  \n",
       "1  0.465917  0.633147  0.564085  \n",
       "2  0.054979  0.176395  0.346994  \n",
       "3  0.952024  0.174356  0.811625  \n",
       "4  0.613466  0.991041  0.803071  "
      ]
     },
     "execution_count": 24,
     "metadata": {},
     "output_type": "execute_result"
    }
   ],
   "source": [
    "df.rename({'0':'A','1':'B','3':'C'},inplace=True)\n",
    "df"
   ]
  },
  {
   "cell_type": "code",
   "execution_count": 30,
   "id": "7ce56572",
   "metadata": {},
   "outputs": [
    {
     "data": {
      "text/html": [
       "<div>\n",
       "<style scoped>\n",
       "    .dataframe tbody tr th:only-of-type {\n",
       "        vertical-align: middle;\n",
       "    }\n",
       "\n",
       "    .dataframe tbody tr th {\n",
       "        vertical-align: top;\n",
       "    }\n",
       "\n",
       "    .dataframe thead th {\n",
       "        text-align: right;\n",
       "    }\n",
       "</style>\n",
       "<table border=\"1\" class=\"dataframe\">\n",
       "  <thead>\n",
       "    <tr style=\"text-align: right;\">\n",
       "      <th></th>\n",
       "      <th>0</th>\n",
       "      <th>1</th>\n",
       "      <th>2</th>\n",
       "      <th>3</th>\n",
       "      <th>4</th>\n",
       "      <th>5</th>\n",
       "      <th>6</th>\n",
       "      <th>7</th>\n",
       "      <th>8</th>\n",
       "      <th>9</th>\n",
       "    </tr>\n",
       "  </thead>\n",
       "  <tbody>\n",
       "    <tr>\n",
       "      <th>0</th>\n",
       "      <td>0.408960</td>\n",
       "      <td>0.070678</td>\n",
       "      <td>0.373957</td>\n",
       "      <td>0.184759</td>\n",
       "      <td>0.387744</td>\n",
       "      <td>0.297897</td>\n",
       "      <td>0.419459</td>\n",
       "      <td>0.575106</td>\n",
       "      <td>0.739666</td>\n",
       "      <td>0.549785</td>\n",
       "    </tr>\n",
       "    <tr>\n",
       "      <th>1</th>\n",
       "      <td>0.727940</td>\n",
       "      <td>0.296188</td>\n",
       "      <td>0.474564</td>\n",
       "      <td>0.686255</td>\n",
       "      <td>0.417673</td>\n",
       "      <td>0.813233</td>\n",
       "      <td>0.470842</td>\n",
       "      <td>0.465917</td>\n",
       "      <td>0.633147</td>\n",
       "      <td>0.564085</td>\n",
       "    </tr>\n",
       "    <tr>\n",
       "      <th>2</th>\n",
       "      <td>0.415176</td>\n",
       "      <td>0.157863</td>\n",
       "      <td>0.505621</td>\n",
       "      <td>0.221435</td>\n",
       "      <td>0.855086</td>\n",
       "      <td>0.025044</td>\n",
       "      <td>0.969605</td>\n",
       "      <td>0.054979</td>\n",
       "      <td>0.176395</td>\n",
       "      <td>0.346994</td>\n",
       "    </tr>\n",
       "    <tr>\n",
       "      <th>3</th>\n",
       "      <td>0.090440</td>\n",
       "      <td>0.115193</td>\n",
       "      <td>0.011438</td>\n",
       "      <td>0.590517</td>\n",
       "      <td>0.311081</td>\n",
       "      <td>0.065849</td>\n",
       "      <td>0.782758</td>\n",
       "      <td>0.952024</td>\n",
       "      <td>0.174356</td>\n",
       "      <td>0.811625</td>\n",
       "    </tr>\n",
       "    <tr>\n",
       "      <th>4</th>\n",
       "      <td>0.349774</td>\n",
       "      <td>0.583724</td>\n",
       "      <td>0.885829</td>\n",
       "      <td>0.780260</td>\n",
       "      <td>0.608362</td>\n",
       "      <td>0.182307</td>\n",
       "      <td>0.801069</td>\n",
       "      <td>0.613466</td>\n",
       "      <td>0.991041</td>\n",
       "      <td>0.803071</td>\n",
       "    </tr>\n",
       "  </tbody>\n",
       "</table>\n",
       "</div>"
      ],
      "text/plain": [
       "          0         1         2         3         4         5         6  \\\n",
       "0  0.408960  0.070678  0.373957  0.184759  0.387744  0.297897  0.419459   \n",
       "1  0.727940  0.296188  0.474564  0.686255  0.417673  0.813233  0.470842   \n",
       "2  0.415176  0.157863  0.505621  0.221435  0.855086  0.025044  0.969605   \n",
       "3  0.090440  0.115193  0.011438  0.590517  0.311081  0.065849  0.782758   \n",
       "4  0.349774  0.583724  0.885829  0.780260  0.608362  0.182307  0.801069   \n",
       "\n",
       "          7         8         9  \n",
       "0  0.575106  0.739666  0.549785  \n",
       "1  0.465917  0.633147  0.564085  \n",
       "2  0.054979  0.176395  0.346994  \n",
       "3  0.952024  0.174356  0.811625  \n",
       "4  0.613466  0.991041  0.803071  "
      ]
     },
     "execution_count": 30,
     "metadata": {},
     "output_type": "execute_result"
    }
   ],
   "source": [
    "df.reset_index(drop=True)"
   ]
  },
  {
   "cell_type": "code",
   "execution_count": 37,
   "id": "96012ea8",
   "metadata": {},
   "outputs": [
    {
     "data": {
      "text/html": [
       "<div>\n",
       "<style scoped>\n",
       "    .dataframe tbody tr th:only-of-type {\n",
       "        vertical-align: middle;\n",
       "    }\n",
       "\n",
       "    .dataframe tbody tr th {\n",
       "        vertical-align: top;\n",
       "    }\n",
       "\n",
       "    .dataframe thead th {\n",
       "        text-align: right;\n",
       "    }\n",
       "</style>\n",
       "<table border=\"1\" class=\"dataframe\">\n",
       "  <thead>\n",
       "    <tr style=\"text-align: right;\">\n",
       "      <th></th>\n",
       "      <th>0</th>\n",
       "      <th>1</th>\n",
       "      <th>2</th>\n",
       "      <th>3</th>\n",
       "      <th>4</th>\n",
       "      <th>5</th>\n",
       "      <th>6</th>\n",
       "      <th>7</th>\n",
       "      <th>8</th>\n",
       "      <th>9</th>\n",
       "    </tr>\n",
       "  </thead>\n",
       "  <tbody>\n",
       "    <tr>\n",
       "      <th>0</th>\n",
       "      <td>0.408960</td>\n",
       "      <td>0.070678</td>\n",
       "      <td>0.373957</td>\n",
       "      <td>0.184759</td>\n",
       "      <td>0.387744</td>\n",
       "      <td>0.297897</td>\n",
       "      <td>0.419459</td>\n",
       "      <td>0.575106</td>\n",
       "      <td>0.739666</td>\n",
       "      <td>0.549785</td>\n",
       "    </tr>\n",
       "    <tr>\n",
       "      <th>1</th>\n",
       "      <td>0.727940</td>\n",
       "      <td>0.296188</td>\n",
       "      <td>0.474564</td>\n",
       "      <td>0.686255</td>\n",
       "      <td>0.417673</td>\n",
       "      <td>0.813233</td>\n",
       "      <td>0.470842</td>\n",
       "      <td>0.465917</td>\n",
       "      <td>0.633147</td>\n",
       "      <td>0.564085</td>\n",
       "    </tr>\n",
       "    <tr>\n",
       "      <th>2</th>\n",
       "      <td>0.415176</td>\n",
       "      <td>0.157863</td>\n",
       "      <td>0.505621</td>\n",
       "      <td>0.221435</td>\n",
       "      <td>0.855086</td>\n",
       "      <td>0.025044</td>\n",
       "      <td>0.969605</td>\n",
       "      <td>0.054979</td>\n",
       "      <td>0.176395</td>\n",
       "      <td>0.346994</td>\n",
       "    </tr>\n",
       "    <tr>\n",
       "      <th>3</th>\n",
       "      <td>0.090440</td>\n",
       "      <td>0.115193</td>\n",
       "      <td>0.011438</td>\n",
       "      <td>0.590517</td>\n",
       "      <td>0.311081</td>\n",
       "      <td>0.065849</td>\n",
       "      <td>0.782758</td>\n",
       "      <td>0.952024</td>\n",
       "      <td>0.174356</td>\n",
       "      <td>0.811625</td>\n",
       "    </tr>\n",
       "    <tr>\n",
       "      <th>4</th>\n",
       "      <td>0.349774</td>\n",
       "      <td>0.583724</td>\n",
       "      <td>0.885829</td>\n",
       "      <td>0.780260</td>\n",
       "      <td>0.608362</td>\n",
       "      <td>0.182307</td>\n",
       "      <td>0.801069</td>\n",
       "      <td>0.613466</td>\n",
       "      <td>0.991041</td>\n",
       "      <td>0.803071</td>\n",
       "    </tr>\n",
       "  </tbody>\n",
       "</table>\n",
       "</div>"
      ],
      "text/plain": [
       "          0         1         2         3         4         5         6  \\\n",
       "0  0.408960  0.070678  0.373957  0.184759  0.387744  0.297897  0.419459   \n",
       "1  0.727940  0.296188  0.474564  0.686255  0.417673  0.813233  0.470842   \n",
       "2  0.415176  0.157863  0.505621  0.221435  0.855086  0.025044  0.969605   \n",
       "3  0.090440  0.115193  0.011438  0.590517  0.311081  0.065849  0.782758   \n",
       "4  0.349774  0.583724  0.885829  0.780260  0.608362  0.182307  0.801069   \n",
       "\n",
       "          7         8         9  \n",
       "0  0.575106  0.739666  0.549785  \n",
       "1  0.465917  0.633147  0.564085  \n",
       "2  0.054979  0.176395  0.346994  \n",
       "3  0.952024  0.174356  0.811625  \n",
       "4  0.613466  0.991041  0.803071  "
      ]
     },
     "execution_count": 37,
     "metadata": {},
     "output_type": "execute_result"
    }
   ],
   "source": [
    "index = ['a','b','c','d','e']\n",
    "df"
   ]
  },
  {
   "cell_type": "code",
   "execution_count": 60,
   "id": "2f4c3d68",
   "metadata": {},
   "outputs": [
    {
     "name": "stdout",
     "output_type": "stream",
     "text": [
      "     name  age\n",
      "0  Sujeet   10\n",
      "1  Sameer   11\n",
      "2   Sumit   12\n",
      "iterate over rows \n",
      "\n",
      "Sujeet 10\n",
      "Sameer 11\n",
      "Sumit 12\n"
     ]
    }
   ],
   "source": [
    "# 1 iterate over row\n",
    "input_df = [{'name':'Sujeet', 'age':10},\n",
    "            {'name':'Sameer', 'age':11},\n",
    "            {'name':'Sumit', 'age':12}]\n",
    "cdf= pd.DataFrame(input_df)\n",
    "print(cdf)\n",
    "\n",
    "print(\"iterate over rows \\n\")\n",
    "for index,row in cdf.iterrows():\n",
    "    print(row['name'],row['age'])"
   ]
  },
  {
   "cell_type": "code",
   "execution_count": 62,
   "id": "5fcda92a",
   "metadata": {},
   "outputs": [
    {
     "data": {
      "text/html": [
       "<div>\n",
       "<style scoped>\n",
       "    .dataframe tbody tr th:only-of-type {\n",
       "        vertical-align: middle;\n",
       "    }\n",
       "\n",
       "    .dataframe tbody tr th {\n",
       "        vertical-align: top;\n",
       "    }\n",
       "\n",
       "    .dataframe thead th {\n",
       "        text-align: right;\n",
       "    }\n",
       "</style>\n",
       "<table border=\"1\" class=\"dataframe\">\n",
       "  <thead>\n",
       "    <tr style=\"text-align: right;\">\n",
       "      <th></th>\n",
       "      <th>name</th>\n",
       "      <th>age</th>\n",
       "    </tr>\n",
       "  </thead>\n",
       "  <tbody>\n",
       "    <tr>\n",
       "      <th>0</th>\n",
       "      <td>Sujeet</td>\n",
       "      <td>10</td>\n",
       "    </tr>\n",
       "    <tr>\n",
       "      <th>1</th>\n",
       "      <td>Sameer</td>\n",
       "      <td>11</td>\n",
       "    </tr>\n",
       "    <tr>\n",
       "      <th>2</th>\n",
       "      <td>Sumit</td>\n",
       "      <td>12</td>\n",
       "    </tr>\n",
       "  </tbody>\n",
       "</table>\n",
       "</div>"
      ],
      "text/plain": [
       "     name  age\n",
       "0  Sujeet   10\n",
       "1  Sameer   11\n",
       "2   Sumit   12"
      ]
     },
     "execution_count": 62,
     "metadata": {},
     "output_type": "execute_result"
    }
   ],
   "source": [
    "df"
   ]
  },
  {
   "cell_type": "code",
   "execution_count": 68,
   "id": "8dca7d77",
   "metadata": {},
   "outputs": [
    {
     "data": {
      "text/html": [
       "<div>\n",
       "<style scoped>\n",
       "    .dataframe tbody tr th:only-of-type {\n",
       "        vertical-align: middle;\n",
       "    }\n",
       "\n",
       "    .dataframe tbody tr th {\n",
       "        vertical-align: top;\n",
       "    }\n",
       "\n",
       "    .dataframe thead th {\n",
       "        text-align: right;\n",
       "    }\n",
       "</style>\n",
       "<table border=\"1\" class=\"dataframe\">\n",
       "  <thead>\n",
       "    <tr style=\"text-align: right;\">\n",
       "      <th></th>\n",
       "      <th>name</th>\n",
       "      <th>age</th>\n",
       "    </tr>\n",
       "  </thead>\n",
       "  <tbody>\n",
       "    <tr>\n",
       "      <th>1</th>\n",
       "      <td>Sameer</td>\n",
       "      <td>11</td>\n",
       "    </tr>\n",
       "    <tr>\n",
       "      <th>2</th>\n",
       "      <td>Sumit</td>\n",
       "      <td>12</td>\n",
       "    </tr>\n",
       "  </tbody>\n",
       "</table>\n",
       "</div>"
      ],
      "text/plain": [
       "     name  age\n",
       "1  Sameer   11\n",
       "2   Sumit   12"
      ]
     },
     "execution_count": 68,
     "metadata": {},
     "output_type": "execute_result"
    }
   ],
   "source": [
    "# 2. using some condition\n",
    "ndf = df[(df['age']>10)]\n",
    "ndf"
   ]
  },
  {
   "cell_type": "code",
   "execution_count": 73,
   "id": "4a4c3eab",
   "metadata": {},
   "outputs": [
    {
     "data": {
      "text/html": [
       "<div>\n",
       "<style scoped>\n",
       "    .dataframe tbody tr th:only-of-type {\n",
       "        vertical-align: middle;\n",
       "    }\n",
       "\n",
       "    .dataframe tbody tr th {\n",
       "        vertical-align: top;\n",
       "    }\n",
       "\n",
       "    .dataframe thead th {\n",
       "        text-align: right;\n",
       "    }\n",
       "</style>\n",
       "<table border=\"1\" class=\"dataframe\">\n",
       "  <thead>\n",
       "    <tr style=\"text-align: right;\">\n",
       "      <th></th>\n",
       "      <th>name</th>\n",
       "      <th>age</th>\n",
       "    </tr>\n",
       "  </thead>\n",
       "  <tbody>\n",
       "    <tr>\n",
       "      <th>1</th>\n",
       "      <td>Sameer</td>\n",
       "      <td>11</td>\n",
       "    </tr>\n",
       "  </tbody>\n",
       "</table>\n",
       "</div>"
      ],
      "text/plain": [
       "     name  age\n",
       "1  Sameer   11"
      ]
     },
     "execution_count": 73,
     "metadata": {},
     "output_type": "execute_result"
    }
   ],
   "source": [
    "# 3. show only specific row\n",
    "df.loc[[1],:]\n"
   ]
  },
  {
   "cell_type": "code",
   "execution_count": 72,
   "id": "32277019",
   "metadata": {},
   "outputs": [
    {
     "data": {
      "text/html": [
       "<div>\n",
       "<style scoped>\n",
       "    .dataframe tbody tr th:only-of-type {\n",
       "        vertical-align: middle;\n",
       "    }\n",
       "\n",
       "    .dataframe tbody tr th {\n",
       "        vertical-align: top;\n",
       "    }\n",
       "\n",
       "    .dataframe thead th {\n",
       "        text-align: right;\n",
       "    }\n",
       "</style>\n",
       "<table border=\"1\" class=\"dataframe\">\n",
       "  <thead>\n",
       "    <tr style=\"text-align: right;\">\n",
       "      <th></th>\n",
       "      <th>age</th>\n",
       "    </tr>\n",
       "  </thead>\n",
       "  <tbody>\n",
       "    <tr>\n",
       "      <th>0</th>\n",
       "      <td>10</td>\n",
       "    </tr>\n",
       "    <tr>\n",
       "      <th>1</th>\n",
       "      <td>11</td>\n",
       "    </tr>\n",
       "    <tr>\n",
       "      <th>2</th>\n",
       "      <td>12</td>\n",
       "    </tr>\n",
       "  </tbody>\n",
       "</table>\n",
       "</div>"
      ],
      "text/plain": [
       "   age\n",
       "0   10\n",
       "1   11\n",
       "2   12"
      ]
     },
     "execution_count": 72,
     "metadata": {},
     "output_type": "execute_result"
    }
   ],
   "source": [
    "# 4. show onlys specific columns\n",
    "df.loc[:,[\"age\"]]"
   ]
  },
  {
   "cell_type": "code",
   "execution_count": 84,
   "id": "48f57989",
   "metadata": {},
   "outputs": [
    {
     "data": {
      "text/html": [
       "<div>\n",
       "<style scoped>\n",
       "    .dataframe tbody tr th:only-of-type {\n",
       "        vertical-align: middle;\n",
       "    }\n",
       "\n",
       "    .dataframe tbody tr th {\n",
       "        vertical-align: top;\n",
       "    }\n",
       "\n",
       "    .dataframe thead th {\n",
       "        text-align: right;\n",
       "    }\n",
       "</style>\n",
       "<table border=\"1\" class=\"dataframe\">\n",
       "  <thead>\n",
       "    <tr style=\"text-align: right;\">\n",
       "      <th></th>\n",
       "      <th>name</th>\n",
       "      <th>age</th>\n",
       "    </tr>\n",
       "  </thead>\n",
       "  <tbody>\n",
       "    <tr>\n",
       "      <th>0</th>\n",
       "      <td>Sujeet</td>\n",
       "      <td>10</td>\n",
       "    </tr>\n",
       "    <tr>\n",
       "      <th>1</th>\n",
       "      <td>Sameer</td>\n",
       "      <td>11</td>\n",
       "    </tr>\n",
       "    <tr>\n",
       "      <th>2</th>\n",
       "      <td>Sumit</td>\n",
       "      <td>12</td>\n",
       "    </tr>\n",
       "  </tbody>\n",
       "</table>\n",
       "</div>"
      ],
      "text/plain": [
       "     name  age\n",
       "0  Sujeet   10\n",
       "1  Sameer   11\n",
       "2   Sumit   12"
      ]
     },
     "execution_count": 84,
     "metadata": {},
     "output_type": "execute_result"
    }
   ],
   "source": [
    "# limited row selection\n",
    "df.loc[:]"
   ]
  },
  {
   "cell_type": "code",
   "execution_count": 21,
   "id": "32563208",
   "metadata": {},
   "outputs": [
    {
     "data": {
      "text/plain": [
       "array([[ 1, 10,  3],\n",
       "       [ 4,  5,  6]])"
      ]
     },
     "execution_count": 21,
     "metadata": {},
     "output_type": "execute_result"
    }
   ],
   "source": [
    "# number of rows and columns of matrix\n",
    "import numpy as np\n",
    "mm = np.array([[ 1, 10,  3],[ 4,  5,  6]])\n",
    "mm"
   ]
  },
  {
   "cell_type": "code",
   "execution_count": 47,
   "id": "ab99a0a7",
   "metadata": {},
   "outputs": [
    {
     "data": {
      "text/plain": [
       "3"
      ]
     },
     "execution_count": 47,
     "metadata": {},
     "output_type": "execute_result"
    }
   ],
   "source": [
    "#select the given element in the above matrix\n",
    "mm[0][2]"
   ]
  },
  {
   "cell_type": "code",
   "execution_count": 68,
   "id": "6da8663b",
   "metadata": {},
   "outputs": [
    {
     "data": {
      "text/plain": [
       "array([ 5, 15,  9])"
      ]
     },
     "execution_count": 68,
     "metadata": {},
     "output_type": "execute_result"
    }
   ],
   "source": [
    "#sum of digonal elements\n",
    "mm.sum(axis=0)"
   ]
  },
  {
   "cell_type": "code",
   "execution_count": 70,
   "id": "27d99b17",
   "metadata": {},
   "outputs": [
    {
     "ename": "TypeError",
     "evalue": "_sum_dispatcher() missing 1 required positional argument: 'a'",
     "output_type": "error",
     "traceback": [
      "\u001b[1;31m---------------------------------------------------------------------------\u001b[0m",
      "\u001b[1;31mTypeError\u001b[0m                                 Traceback (most recent call last)",
      "Input \u001b[1;32mIn [70]\u001b[0m, in \u001b[0;36m<cell line: 2>\u001b[1;34m()\u001b[0m\n\u001b[0;32m      1\u001b[0m \u001b[38;5;66;03m#addition and substraction using numpy\u001b[39;00m\n\u001b[0;32m      2\u001b[0m \u001b[38;5;28;01mfor\u001b[39;00m i \u001b[38;5;129;01min\u001b[39;00m mm:\n\u001b[1;32m----> 3\u001b[0m    \u001b[43mnp\u001b[49m\u001b[38;5;241;43m.\u001b[39;49m\u001b[43msum\u001b[49m\u001b[43m(\u001b[49m\u001b[43m)\u001b[49m\n",
      "File \u001b[1;32m<__array_function__ internals>:179\u001b[0m, in \u001b[0;36msum\u001b[1;34m(*args, **kwargs)\u001b[0m\n",
      "\u001b[1;31mTypeError\u001b[0m: _sum_dispatcher() missing 1 required positional argument: 'a'"
     ]
    }
   ],
   "source": [
    "#addition and substraction using numpy\n",
    "for i in mm:\n",
    "   np.sum()"
   ]
  },
  {
   "cell_type": "code",
   "execution_count": 73,
   "id": "9625f581",
   "metadata": {},
   "outputs": [
    {
     "data": {
      "text/plain": [
       "array([1, 2, 3, 4, 5])"
      ]
     },
     "execution_count": 73,
     "metadata": {},
     "output_type": "execute_result"
    }
   ],
   "source": [
    "# reverse numpy array\n",
    "nn = np.array([1,2,3,4,5])\n",
    "nn"
   ]
  },
  {
   "cell_type": "code",
   "execution_count": 77,
   "id": "86c84522",
   "metadata": {},
   "outputs": [
    {
     "data": {
      "text/plain": [
       "array([5, 4, 3, 2, 1])"
      ]
     },
     "execution_count": 77,
     "metadata": {},
     "output_type": "execute_result"
    }
   ],
   "source": [
    "#reverse a array\n",
    "ns=nn[::-1]\n",
    "ns"
   ]
  },
  {
   "cell_type": "code",
   "execution_count": 78,
   "id": "aeea47f0",
   "metadata": {},
   "outputs": [
    {
     "ename": "AttributeError",
     "evalue": "'numpy.ndarray' object has no attribute 'multiplication'",
     "output_type": "error",
     "traceback": [
      "\u001b[1;31m---------------------------------------------------------------------------\u001b[0m",
      "\u001b[1;31mAttributeError\u001b[0m                            Traceback (most recent call last)",
      "Input \u001b[1;32mIn [78]\u001b[0m, in \u001b[0;36m<cell line: 1>\u001b[1;34m()\u001b[0m\n\u001b[1;32m----> 1\u001b[0m \u001b[43mns\u001b[49m\u001b[38;5;241;43m.\u001b[39;49m\u001b[43mmultiplication\u001b[49m()\n",
      "\u001b[1;31mAttributeError\u001b[0m: 'numpy.ndarray' object has no attribute 'multiplication'"
     ]
    }
   ],
   "source": [
    "ns.multiplication()"
   ]
  },
  {
   "cell_type": "code",
   "execution_count": null,
   "id": "4a346e6c",
   "metadata": {},
   "outputs": [],
   "source": []
  }
 ],
 "metadata": {
  "kernelspec": {
   "display_name": "Python 3 (ipykernel)",
   "language": "python",
   "name": "python3"
  },
  "language_info": {
   "codemirror_mode": {
    "name": "ipython",
    "version": 3
   },
   "file_extension": ".py",
   "mimetype": "text/x-python",
   "name": "python",
   "nbconvert_exporter": "python",
   "pygments_lexer": "ipython3",
   "version": "3.10.5"
  }
 },
 "nbformat": 4,
 "nbformat_minor": 5
}
